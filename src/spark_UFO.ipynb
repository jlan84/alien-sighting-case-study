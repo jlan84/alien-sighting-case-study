{
 "cells": [
  {
   "cell_type": "code",
   "execution_count": 1,
   "metadata": {},
   "outputs": [],
   "source": [
    "import pyspark as ps\n",
    "from bs4 import BeautifulSoup as bs\n",
    "import json\n",
    "\n",
    "spark = (ps.sql.SparkSession.builder\n",
    "        .appName(\"sandbox\")\n",
    "        .getOrCreate()\n",
    "        )\n",
    "\n",
    "sc = spark.sparkContext"
   ]
  },
  {
   "cell_type": "code",
   "execution_count": 2,
   "metadata": {},
   "outputs": [],
   "source": [
    "def import_records(json_file):\n",
    "    records = []\n",
    "    with open(json_file) as f:\n",
    "        for i in f:\n",
    "            records.append(json.loads(i))\n",
    "    return records\n",
    "\n",
    "def separate_json(json_file):\n",
    "    records = import_records(json_file)\n",
    "    id_lst = []\n",
    "    url_lst = []\n",
    "    soup_lst = []\n",
    "    time_lst = []\n",
    "    for i in range(len(records)):\n",
    "        id_lst.append(records[i]['_id'])\n",
    "        url_lst.append(records[i]['url'])\n",
    "        soup_lst.append(bs(records[i]['html'], 'html.parser'))\n",
    "        time_lst.append(records[i]['time'])\n",
    "    return id_lst, url_lst, soup_lst, time_lst\n",
    "\n",
    "def pipeline(json_file):\n",
    "    id_lst, url_lst, soup_lst, time_lst = separate_json(json_file)\n",
    "    content = []\n",
    "    other_stuff = []\n",
    "    for i in range(len(soup_lst)):\n",
    "        td_tags = soup_lst[i].find_all('td')\n",
    "        other_stuff.append(td_tags[0].text)\n",
    "        content.append(td_tags[1].text)\n",
    "    contents_lower = []\n",
    "    for val in content:\n",
    "        if val == None:\n",
    "            contents_lower.append(\"\")\n",
    "        else:\n",
    "            contents_lower.append(val.lower())\n",
    "    words_to_remove = ['Occurred', 'Reported', 'Posted', \n",
    "                       'Location', 'Shape', 'Duration']\n",
    "    features_dic = {'Occurred': [],'Location': [],\n",
    "                    'Shape': [], 'Duration': []}\n",
    "    \n",
    "    for i in range(len(other_stuff)):\n",
    "        removekeys = other_stuff[i]\n",
    "        for val in words_to_remove:\n",
    "            removekeys = removekeys.replace(val,\"\")\n",
    "        lst = removekeys.split(':')\n",
    "        try:\n",
    "            features_dic['Occurred'].append(lst[1])\n",
    "        except:\n",
    "            features_dic['Occurred'].append(None)\n",
    "        try:\n",
    "            features_dic['Location'].append(lst[10])\n",
    "        except:\n",
    "            features_dic['Location'].append(None)\n",
    "        try:\n",
    "            features_dic['Shape'].append(lst[11])\n",
    "        except:\n",
    "            features_dic['Shape'].append(None)\n",
    "        try:\n",
    "            features_dic['Duration'].append(lst[12])\n",
    "        except:\n",
    "            features_dic['Duration'].append(None)\n",
    "    return features_dic, contents_lower"
   ]
  },
  {
   "cell_type": "code",
   "execution_count": null,
   "metadata": {},
   "outputs": [],
   "source": [
    "file = '/home/jovyan/work/Galvanize/DSI/repos/nlp/ufodata.json'\n",
    "dic, content = pipeline(file)"
   ]
  },
  {
   "cell_type": "code",
   "execution_count": 10,
   "metadata": {},
   "outputs": [
    {
     "data": {
      "text/plain": [
       "'/home/jovyan'"
      ]
     },
     "execution_count": 10,
     "metadata": {},
     "output_type": "execute_result"
    }
   ],
   "source": []
  },
  {
   "cell_type": "code",
   "execution_count": null,
   "metadata": {},
   "outputs": [],
   "source": []
  }
 ],
 "metadata": {
  "kernelspec": {
   "display_name": "Python 3",
   "language": "python",
   "name": "python3"
  },
  "language_info": {
   "codemirror_mode": {
    "name": "ipython",
    "version": 3
   },
   "file_extension": ".py",
   "mimetype": "text/x-python",
   "name": "python",
   "nbconvert_exporter": "python",
   "pygments_lexer": "ipython3",
   "version": "3.8.3"
  }
 },
 "nbformat": 4,
 "nbformat_minor": 4
}
