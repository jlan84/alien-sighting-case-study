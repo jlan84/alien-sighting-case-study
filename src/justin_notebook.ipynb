{
 "cells": [
  {
   "cell_type": "code",
   "execution_count": 1,
   "metadata": {},
   "outputs": [],
   "source": [
    "from bs4 import BeautifulSoup as bs\n",
    "import json"
   ]
  },
  {
   "cell_type": "code",
   "execution_count": 4,
   "metadata": {},
   "outputs": [],
   "source": [
    "records = []\n",
    "with open('../data/ufo_first100records.json') as f:\n",
    "    for i in f:\n",
    "        records.append(json.loads(i))\n",
    "# print(len(records))\n",
    "# print(records[0]['_id'])\n",
    "\n",
    "\n",
    "id_lst = []\n",
    "url_lst = []\n",
    "soup_lst = []\n",
    "time_lst = []\n",
    "for i in range(len(records)):\n",
    "    id_lst.append(records[i]['_id'])\n",
    "    url_lst.append(records[i]['url'])\n",
    "    soup_lst.append(bs(records[i]['html'], 'lxml'))\n",
    "    time_lst.append(records[i]['time'])\n",
    "\n",
    "\n",
    "\n",
    "    "
   ]
  },
  {
   "cell_type": "code",
   "execution_count": 5,
   "metadata": {},
   "outputs": [
    {
     "name": "stdout",
     "output_type": "stream",
     "text": [
      "99\n"
     ]
    }
   ],
   "source": [
    "print(len(records))"
   ]
  },
  {
   "cell_type": "code",
   "execution_count": 7,
   "metadata": {},
   "outputs": [
    {
     "name": "stdout",
     "output_type": "stream",
     "text": [
      "{'$oid': '591382287c40e83fd74240bd'}\n"
     ]
    }
   ],
   "source": [
    "print(records[0]['_id'])"
   ]
  },
  {
   "cell_type": "code",
   "execution_count": 8,
   "metadata": {},
   "outputs": [
    {
     "name": "stdout",
     "output_type": "stream",
     "text": [
      "99 99 99 99\n"
     ]
    }
   ],
   "source": [
    "print(len(id_lst), len(url_lst), len(soup_lst), len(time_lst))"
   ]
  },
  {
   "cell_type": "code",
   "execution_count": 10,
   "metadata": {},
   "outputs": [
    {
     "name": "stdout",
     "output_type": "stream",
     "text": [
      "Occurred : 5/6/2017 05:00  (Entered as : 05/06/2017 05:00)Reported: 5/6/2017 4:10:01 AM 04:10Posted: 5/6/2017Location: Camp McGregor, NMShape: LightDuration:10 minutes\n",
      "Light seen over mountain's east of Camp McGregor.  It hovered in one spot.  It looked like a helicopter light at first.  But it was way to bright.  Then it went to a higher height.  Stayed there for a while.  Then disappeared.((NUFORC Note:  Report appears to us to be consistent with the sighting of Venus.  PD))\n"
     ]
    }
   ],
   "source": [
    "td_tags = soup_lst[0].find_all('td')\n",
    "    \n",
    "other = td_tags[0].text\n",
    "description = td_tags[1].text\n",
    "print(other)\n",
    "print(description)"
   ]
  },
  {
   "cell_type": "code",
   "execution_count": null,
   "metadata": {},
   "outputs": [],
   "source": []
  }
 ],
 "metadata": {
  "kernelspec": {
   "display_name": "Python 3",
   "language": "python",
   "name": "python3"
  },
  "language_info": {
   "codemirror_mode": {
    "name": "ipython",
    "version": 3
   },
   "file_extension": ".py",
   "mimetype": "text/x-python",
   "name": "python",
   "nbconvert_exporter": "python",
   "pygments_lexer": "ipython3",
   "version": "3.7.7"
  }
 },
 "nbformat": 4,
 "nbformat_minor": 4
}
